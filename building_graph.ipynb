{
 "cells": [
  {
   "cell_type": "markdown",
   "metadata": {
    "id": "fgBCgsKVDf_z"
   },
   "source": [
    "# CREAZIONE DEL GRAFO\n",
    "- Per poter risolvere la seconda parte del progetto abbiamo creato un grafo diretto che collegasse ogni città alle sue tre città più vicine (con longitudine inferiore)"
   ]
  },
  {
   "cell_type": "code",
   "execution_count": 1,
   "metadata": {
    "id": "hokvoVF7DgAC"
   },
   "outputs": [],
   "source": [
    "# Importo i pacchetti utili per poter creare il grafo\n",
    "import pandas as pd\n",
    "import geopandas\n",
    "import numpy as np\n",
    "from geopy import distance\n",
    "from geopy.distance import geodesic\n",
    "import networkx as nx\n",
    "from pyvis.network import Network\n",
    "import pickle"
   ]
  },
  {
   "cell_type": "code",
   "execution_count": 2,
   "metadata": {
    "id": "vhORPMzqDgAH",
    "outputId": "4c6346e5-f39c-4711-9fd9-c199f37b7a30"
   },
   "outputs": [
    {
     "data": {
      "text/html": [
       "<div>\n",
       "<style scoped>\n",
       "    .dataframe tbody tr th:only-of-type {\n",
       "        vertical-align: middle;\n",
       "    }\n",
       "\n",
       "    .dataframe tbody tr th {\n",
       "        vertical-align: top;\n",
       "    }\n",
       "\n",
       "    .dataframe thead th {\n",
       "        text-align: right;\n",
       "    }\n",
       "</style>\n",
       "<table border=\"1\" class=\"dataframe\">\n",
       "  <thead>\n",
       "    <tr style=\"text-align: right;\">\n",
       "      <th></th>\n",
       "      <th>Unnamed: 0</th>\n",
       "      <th>dt</th>\n",
       "      <th>AverageTemperature</th>\n",
       "      <th>City</th>\n",
       "      <th>Country</th>\n",
       "      <th>Latitude</th>\n",
       "      <th>Longitude</th>\n",
       "      <th>CLL</th>\n",
       "    </tr>\n",
       "  </thead>\n",
       "  <tbody>\n",
       "    <tr>\n",
       "      <th>0</th>\n",
       "      <td>0</td>\n",
       "      <td>1894-01-01</td>\n",
       "      <td>7.475</td>\n",
       "      <td>A Coruña</td>\n",
       "      <td>Spain</td>\n",
       "      <td>42.59</td>\n",
       "      <td>-8.73</td>\n",
       "      <td>A Coruña 42.59 -8.73</td>\n",
       "    </tr>\n",
       "    <tr>\n",
       "      <th>1</th>\n",
       "      <td>1</td>\n",
       "      <td>1894-01-01</td>\n",
       "      <td>-0.244</td>\n",
       "      <td>Aachen</td>\n",
       "      <td>Germany</td>\n",
       "      <td>50.63</td>\n",
       "      <td>6.34</td>\n",
       "      <td>Aachen 50.63 6.34</td>\n",
       "    </tr>\n",
       "    <tr>\n",
       "      <th>2</th>\n",
       "      <td>2</td>\n",
       "      <td>1894-01-01</td>\n",
       "      <td>0.250</td>\n",
       "      <td>Aalborg</td>\n",
       "      <td>Denmark</td>\n",
       "      <td>57.05</td>\n",
       "      <td>10.33</td>\n",
       "      <td>Aalborg 57.05 10.33</td>\n",
       "    </tr>\n",
       "    <tr>\n",
       "      <th>3</th>\n",
       "      <td>3</td>\n",
       "      <td>1894-01-01</td>\n",
       "      <td>25.866</td>\n",
       "      <td>Aba</td>\n",
       "      <td>Nigeria</td>\n",
       "      <td>5.63</td>\n",
       "      <td>8.07</td>\n",
       "      <td>Aba 5.63 8.07</td>\n",
       "    </tr>\n",
       "    <tr>\n",
       "      <th>4</th>\n",
       "      <td>4</td>\n",
       "      <td>1894-01-01</td>\n",
       "      <td>11.048</td>\n",
       "      <td>Abadan</td>\n",
       "      <td>Iran</td>\n",
       "      <td>29.74</td>\n",
       "      <td>48.00</td>\n",
       "      <td>Abadan 29.74 48.0</td>\n",
       "    </tr>\n",
       "    <tr>\n",
       "      <th>...</th>\n",
       "      <td>...</td>\n",
       "      <td>...</td>\n",
       "      <td>...</td>\n",
       "      <td>...</td>\n",
       "      <td>...</td>\n",
       "      <td>...</td>\n",
       "      <td>...</td>\n",
       "      <td>...</td>\n",
       "    </tr>\n",
       "    <tr>\n",
       "      <th>5349235</th>\n",
       "      <td>5349235</td>\n",
       "      <td>2020-12-01</td>\n",
       "      <td>5.009</td>\n",
       "      <td>Århus</td>\n",
       "      <td>Denmark</td>\n",
       "      <td>57.05</td>\n",
       "      <td>10.33</td>\n",
       "      <td>Århus 57.05 10.33</td>\n",
       "    </tr>\n",
       "    <tr>\n",
       "      <th>5349236</th>\n",
       "      <td>5349236</td>\n",
       "      <td>2020-12-01</td>\n",
       "      <td>9.843</td>\n",
       "      <td>Çorlu</td>\n",
       "      <td>Turkey</td>\n",
       "      <td>40.99</td>\n",
       "      <td>27.69</td>\n",
       "      <td>Çorlu 40.99 27.69</td>\n",
       "    </tr>\n",
       "    <tr>\n",
       "      <th>5349237</th>\n",
       "      <td>5349237</td>\n",
       "      <td>2020-12-01</td>\n",
       "      <td>4.694</td>\n",
       "      <td>Çorum</td>\n",
       "      <td>Turkey</td>\n",
       "      <td>40.99</td>\n",
       "      <td>34.08</td>\n",
       "      <td>Çorum 40.99 34.08</td>\n",
       "    </tr>\n",
       "    <tr>\n",
       "      <th>5349238</th>\n",
       "      <td>5349238</td>\n",
       "      <td>2020-12-01</td>\n",
       "      <td>-13.483</td>\n",
       "      <td>Öskemen</td>\n",
       "      <td>Kazakhstan</td>\n",
       "      <td>50.63</td>\n",
       "      <td>82.39</td>\n",
       "      <td>Öskemen 50.63 82.39</td>\n",
       "    </tr>\n",
       "    <tr>\n",
       "      <th>5349239</th>\n",
       "      <td>5349239</td>\n",
       "      <td>2020-12-01</td>\n",
       "      <td>-12.889</td>\n",
       "      <td>Ürümqi</td>\n",
       "      <td>China</td>\n",
       "      <td>44.20</td>\n",
       "      <td>87.20</td>\n",
       "      <td>Ürümqi 44.2 87.2</td>\n",
       "    </tr>\n",
       "  </tbody>\n",
       "</table>\n",
       "<p>5349240 rows × 8 columns</p>\n",
       "</div>"
      ],
      "text/plain": [
       "         Unnamed: 0          dt  AverageTemperature      City     Country  \\\n",
       "0                 0  1894-01-01               7.475  A Coruña       Spain   \n",
       "1                 1  1894-01-01              -0.244    Aachen     Germany   \n",
       "2                 2  1894-01-01               0.250   Aalborg     Denmark   \n",
       "3                 3  1894-01-01              25.866       Aba     Nigeria   \n",
       "4                 4  1894-01-01              11.048    Abadan        Iran   \n",
       "...             ...         ...                 ...       ...         ...   \n",
       "5349235     5349235  2020-12-01               5.009     Århus     Denmark   \n",
       "5349236     5349236  2020-12-01               9.843     Çorlu      Turkey   \n",
       "5349237     5349237  2020-12-01               4.694     Çorum      Turkey   \n",
       "5349238     5349238  2020-12-01             -13.483   Öskemen  Kazakhstan   \n",
       "5349239     5349239  2020-12-01             -12.889    Ürümqi       China   \n",
       "\n",
       "         Latitude  Longitude                   CLL  \n",
       "0           42.59      -8.73  A Coruña 42.59 -8.73  \n",
       "1           50.63       6.34     Aachen 50.63 6.34  \n",
       "2           57.05      10.33   Aalborg 57.05 10.33  \n",
       "3            5.63       8.07         Aba 5.63 8.07  \n",
       "4           29.74      48.00     Abadan 29.74 48.0  \n",
       "...           ...        ...                   ...  \n",
       "5349235     57.05      10.33     Århus 57.05 10.33  \n",
       "5349236     40.99      27.69     Çorlu 40.99 27.69  \n",
       "5349237     40.99      34.08     Çorum 40.99 34.08  \n",
       "5349238     50.63      82.39   Öskemen 50.63 82.39  \n",
       "5349239     44.20      87.20      Ürümqi 44.2 87.2  \n",
       "\n",
       "[5349240 rows x 8 columns]"
      ]
     },
     "execution_count": 2,
     "metadata": {},
     "output_type": "execute_result"
    }
   ],
   "source": [
    "# importo il dataset pulito ed aggiornato\n",
    "df= pd.read_csv(r'C:/Users/lucam/Documents/master/Viaggiatore_finale/Data/dataset_cities_finale_2020.csv')\n",
    "df"
   ]
  },
  {
   "cell_type": "code",
   "execution_count": 5,
   "metadata": {
    "id": "ceZiZR97DgAJ"
   },
   "outputs": [],
   "source": [
    "# creazione di un dataframe di tutte le 3510 città\n",
    "df_cities= df[:3510][['CLL', 'Latitude','Longitude']]"
   ]
  },
  {
   "cell_type": "code",
   "execution_count": 6,
   "metadata": {
    "id": "PVBSbpvYDgAK"
   },
   "outputs": [],
   "source": [
    "# creazione lista del codice univoco delle città\n",
    "cll=[]\n",
    "for i in range(df_cities.shape[0]):\n",
    "    cll.append(df.loc[i]['CLL'])"
   ]
  },
  {
   "cell_type": "code",
   "execution_count": 7,
   "metadata": {
    "id": "elIel8lhDgAL"
   },
   "outputs": [],
   "source": [
    "# creazione di un dizionario con codice univoco di ogni città come chiave e le coordinate come valori\n",
    "\n",
    "coord_dict={}\n",
    "\n",
    "for city in cll:\n",
    "    \n",
    "    coord_dict[city]=(float(city.split()[-2]),float(city.split()[-1]))\n"
   ]
  },
  {
   "cell_type": "code",
   "execution_count": 8,
   "metadata": {
    "id": "eQlU-JMxDgAM"
   },
   "outputs": [],
   "source": [
    "# funzione per calcolare la distanza geodesica tra due città\n",
    "geodist= lambda x, y: geodesic(coord_dict[x],coord_dict[y]).km"
   ]
  },
  {
   "cell_type": "code",
   "execution_count": 9,
   "metadata": {
    "id": "0XXBbXjdDgAN"
   },
   "outputs": [],
   "source": [
    "# funzione per trovare in dataframe delle città che si trovano a sinistra della città selezionata\n",
    "def df_cll_sx(a):\n",
    "    iniz=coord_dict[a]\n",
    "    s= df_cities[(df_cities['Longitude']<iniz[1])] \n",
    "    return(s)"
   ]
  },
  {
   "cell_type": "code",
   "execution_count": 10,
   "metadata": {
    "id": "ITZNTnK2DgAP"
   },
   "outputs": [],
   "source": [
    "# funzione per ricavare una lista delle 3 città più vicine della città selezionata\n",
    "def nearest_city(a):\n",
    "    try:\n",
    "    \n",
    "        distanze= []\n",
    "        df_city=df_cll_sx(a)\n",
    "\n",
    "        for c in df_city['CLL']:\n",
    "            d = geodist(c,a)\n",
    "            distanze.append(d)\n",
    "\n",
    "        df_city['distances']=distanze\n",
    "\n",
    "        df_city=df_city.sort_values(by=['distances'], ascending=True).reset_index()\n",
    "\n",
    "        n_list=[]\n",
    "\n",
    "        for j in range(3):\n",
    "\n",
    "            n_list.append([df_city.loc[j]['Latitude'],df_city.loc[j]['Longitude'],df_city.loc[j]['CLL'],df_city.loc[j]['distances']])\n",
    "\n",
    "    except KeyError:\n",
    "        \n",
    "        n_list=[]\n",
    "            \n",
    "    return(n_list)"
   ]
  },
  {
   "cell_type": "code",
   "execution_count": 11,
   "metadata": {
    "id": "PYWzhnU6DgAS",
    "outputId": "42ab4c1f-305f-489f-8c61-588cfa149c55"
   },
   "outputs": [
    {
     "name": "stderr",
     "output_type": "stream",
     "text": [
      "C:\\Users\\lucam\\AppData\\Local\\Temp/ipykernel_17776/2855832825.py:12: SettingWithCopyWarning: \n",
      "A value is trying to be set on a copy of a slice from a DataFrame.\n",
      "Try using .loc[row_indexer,col_indexer] = value instead\n",
      "\n",
      "See the caveats in the documentation: https://pandas.pydata.org/pandas-docs/stable/user_guide/indexing.html#returning-a-view-versus-a-copy\n",
      "  df_city['distances']=distanze\n"
     ]
    },
    {
     "ename": "KeyboardInterrupt",
     "evalue": "",
     "output_type": "error",
     "traceback": [
      "\u001b[1;31m---------------------------------------------------------------------------\u001b[0m",
      "\u001b[1;31mKeyboardInterrupt\u001b[0m                         Traceback (most recent call last)",
      "\u001b[1;32m~\\AppData\\Local\\Temp/ipykernel_17776/2797396800.py\u001b[0m in \u001b[0;36m<module>\u001b[1;34m\u001b[0m\n\u001b[0;32m      9\u001b[0m \u001b[1;32mfor\u001b[0m \u001b[0mcity\u001b[0m \u001b[1;32min\u001b[0m \u001b[0mcll\u001b[0m\u001b[1;33m:\u001b[0m\u001b[1;33m\u001b[0m\u001b[1;33m\u001b[0m\u001b[0m\n\u001b[0;32m     10\u001b[0m \u001b[1;33m\u001b[0m\u001b[0m\n\u001b[1;32m---> 11\u001b[1;33m     \u001b[0ml\u001b[0m \u001b[1;33m=\u001b[0m\u001b[0mnearest_city\u001b[0m\u001b[1;33m(\u001b[0m\u001b[0mcity\u001b[0m\u001b[1;33m)\u001b[0m\u001b[1;33m\u001b[0m\u001b[1;33m\u001b[0m\u001b[0m\n\u001b[0m\u001b[0;32m     12\u001b[0m \u001b[1;33m\u001b[0m\u001b[0m\n\u001b[0;32m     13\u001b[0m     \u001b[1;32mif\u001b[0m \u001b[0ml\u001b[0m\u001b[1;33m==\u001b[0m\u001b[1;33m[\u001b[0m\u001b[1;33m]\u001b[0m\u001b[1;33m:\u001b[0m\u001b[1;33m\u001b[0m\u001b[1;33m\u001b[0m\u001b[0m\n",
      "\u001b[1;32m~\\AppData\\Local\\Temp/ipykernel_17776/2855832825.py\u001b[0m in \u001b[0;36mnearest_city\u001b[1;34m(a)\u001b[0m\n\u001b[0;32m      7\u001b[0m \u001b[1;33m\u001b[0m\u001b[0m\n\u001b[0;32m      8\u001b[0m         \u001b[1;32mfor\u001b[0m \u001b[0mc\u001b[0m \u001b[1;32min\u001b[0m \u001b[0mdf_city\u001b[0m\u001b[1;33m[\u001b[0m\u001b[1;34m'CLL'\u001b[0m\u001b[1;33m]\u001b[0m\u001b[1;33m:\u001b[0m\u001b[1;33m\u001b[0m\u001b[1;33m\u001b[0m\u001b[0m\n\u001b[1;32m----> 9\u001b[1;33m             \u001b[0md\u001b[0m \u001b[1;33m=\u001b[0m \u001b[0mgeodist\u001b[0m\u001b[1;33m(\u001b[0m\u001b[0mc\u001b[0m\u001b[1;33m,\u001b[0m\u001b[0ma\u001b[0m\u001b[1;33m)\u001b[0m\u001b[1;33m\u001b[0m\u001b[1;33m\u001b[0m\u001b[0m\n\u001b[0m\u001b[0;32m     10\u001b[0m             \u001b[0mdistanze\u001b[0m\u001b[1;33m.\u001b[0m\u001b[0mappend\u001b[0m\u001b[1;33m(\u001b[0m\u001b[0md\u001b[0m\u001b[1;33m)\u001b[0m\u001b[1;33m\u001b[0m\u001b[1;33m\u001b[0m\u001b[0m\n\u001b[0;32m     11\u001b[0m \u001b[1;33m\u001b[0m\u001b[0m\n",
      "\u001b[1;32m~\\AppData\\Local\\Temp/ipykernel_17776/2373392828.py\u001b[0m in \u001b[0;36m<lambda>\u001b[1;34m(x, y)\u001b[0m\n\u001b[0;32m      1\u001b[0m \u001b[1;31m# funzione per calcolare la distanza geodesica tra due città\u001b[0m\u001b[1;33m\u001b[0m\u001b[1;33m\u001b[0m\u001b[0m\n\u001b[1;32m----> 2\u001b[1;33m \u001b[0mgeodist\u001b[0m\u001b[1;33m=\u001b[0m \u001b[1;32mlambda\u001b[0m \u001b[0mx\u001b[0m\u001b[1;33m,\u001b[0m \u001b[0my\u001b[0m\u001b[1;33m:\u001b[0m \u001b[0mgeodesic\u001b[0m\u001b[1;33m(\u001b[0m\u001b[0mcoord_dict\u001b[0m\u001b[1;33m[\u001b[0m\u001b[0mx\u001b[0m\u001b[1;33m]\u001b[0m\u001b[1;33m,\u001b[0m\u001b[0mcoord_dict\u001b[0m\u001b[1;33m[\u001b[0m\u001b[0my\u001b[0m\u001b[1;33m]\u001b[0m\u001b[1;33m)\u001b[0m\u001b[1;33m.\u001b[0m\u001b[0mkm\u001b[0m\u001b[1;33m\u001b[0m\u001b[1;33m\u001b[0m\u001b[0m\n\u001b[0m",
      "\u001b[1;32m~\\anaconda3\\lib\\site-packages\\geopy\\distance.py\u001b[0m in \u001b[0;36m__init__\u001b[1;34m(self, *args, **kwargs)\u001b[0m\n\u001b[0;32m    520\u001b[0m         \u001b[0mself\u001b[0m\u001b[1;33m.\u001b[0m\u001b[0mset_ellipsoid\u001b[0m\u001b[1;33m(\u001b[0m\u001b[0mkwargs\u001b[0m\u001b[1;33m.\u001b[0m\u001b[0mpop\u001b[0m\u001b[1;33m(\u001b[0m\u001b[1;34m'ellipsoid'\u001b[0m\u001b[1;33m,\u001b[0m \u001b[1;34m'WGS-84'\u001b[0m\u001b[1;33m)\u001b[0m\u001b[1;33m)\u001b[0m\u001b[1;33m\u001b[0m\u001b[1;33m\u001b[0m\u001b[0m\n\u001b[0;32m    521\u001b[0m         \u001b[0mmajor\u001b[0m\u001b[1;33m,\u001b[0m \u001b[0mminor\u001b[0m\u001b[1;33m,\u001b[0m \u001b[0mf\u001b[0m \u001b[1;33m=\u001b[0m \u001b[0mself\u001b[0m\u001b[1;33m.\u001b[0m\u001b[0mELLIPSOID\u001b[0m\u001b[1;33m\u001b[0m\u001b[1;33m\u001b[0m\u001b[0m\n\u001b[1;32m--> 522\u001b[1;33m         \u001b[0msuper\u001b[0m\u001b[1;33m(\u001b[0m\u001b[1;33m)\u001b[0m\u001b[1;33m.\u001b[0m\u001b[0m__init__\u001b[0m\u001b[1;33m(\u001b[0m\u001b[1;33m*\u001b[0m\u001b[0margs\u001b[0m\u001b[1;33m,\u001b[0m \u001b[1;33m**\u001b[0m\u001b[0mkwargs\u001b[0m\u001b[1;33m)\u001b[0m\u001b[1;33m\u001b[0m\u001b[1;33m\u001b[0m\u001b[0m\n\u001b[0m\u001b[0;32m    523\u001b[0m \u001b[1;33m\u001b[0m\u001b[0m\n\u001b[0;32m    524\u001b[0m     \u001b[1;32mdef\u001b[0m \u001b[0mset_ellipsoid\u001b[0m\u001b[1;33m(\u001b[0m\u001b[0mself\u001b[0m\u001b[1;33m,\u001b[0m \u001b[0mellipsoid\u001b[0m\u001b[1;33m)\u001b[0m\u001b[1;33m:\u001b[0m\u001b[1;33m\u001b[0m\u001b[1;33m\u001b[0m\u001b[0m\n",
      "\u001b[1;32m~\\anaconda3\\lib\\site-packages\\geopy\\distance.py\u001b[0m in \u001b[0;36m__init__\u001b[1;34m(self, *args, **kwargs)\u001b[0m\n\u001b[0;32m    274\u001b[0m         \u001b[1;32melif\u001b[0m \u001b[0mlen\u001b[0m\u001b[1;33m(\u001b[0m\u001b[0margs\u001b[0m\u001b[1;33m)\u001b[0m \u001b[1;33m>\u001b[0m \u001b[1;36m1\u001b[0m\u001b[1;33m:\u001b[0m\u001b[1;33m\u001b[0m\u001b[1;33m\u001b[0m\u001b[0m\n\u001b[0;32m    275\u001b[0m             \u001b[1;32mfor\u001b[0m \u001b[0ma\u001b[0m\u001b[1;33m,\u001b[0m \u001b[0mb\u001b[0m \u001b[1;32min\u001b[0m \u001b[0mutil\u001b[0m\u001b[1;33m.\u001b[0m\u001b[0mpairwise\u001b[0m\u001b[1;33m(\u001b[0m\u001b[0margs\u001b[0m\u001b[1;33m)\u001b[0m\u001b[1;33m:\u001b[0m\u001b[1;33m\u001b[0m\u001b[1;33m\u001b[0m\u001b[0m\n\u001b[1;32m--> 276\u001b[1;33m                 \u001b[0mkilometers\u001b[0m \u001b[1;33m+=\u001b[0m \u001b[0mself\u001b[0m\u001b[1;33m.\u001b[0m\u001b[0mmeasure\u001b[0m\u001b[1;33m(\u001b[0m\u001b[0ma\u001b[0m\u001b[1;33m,\u001b[0m \u001b[0mb\u001b[0m\u001b[1;33m)\u001b[0m\u001b[1;33m\u001b[0m\u001b[1;33m\u001b[0m\u001b[0m\n\u001b[0m\u001b[0;32m    277\u001b[0m \u001b[1;33m\u001b[0m\u001b[0m\n\u001b[0;32m    278\u001b[0m         \u001b[0mkilometers\u001b[0m \u001b[1;33m+=\u001b[0m \u001b[0munits\u001b[0m\u001b[1;33m.\u001b[0m\u001b[0mkilometers\u001b[0m\u001b[1;33m(\u001b[0m\u001b[1;33m**\u001b[0m\u001b[0mkwargs\u001b[0m\u001b[1;33m)\u001b[0m\u001b[1;33m\u001b[0m\u001b[1;33m\u001b[0m\u001b[0m\n",
      "\u001b[1;32m~\\anaconda3\\lib\\site-packages\\geopy\\distance.py\u001b[0m in \u001b[0;36mmeasure\u001b[1;34m(self, a, b)\u001b[0m\n\u001b[0;32m    546\u001b[0m             \u001b[0mself\u001b[0m\u001b[1;33m.\u001b[0m\u001b[0mgeod\u001b[0m \u001b[1;33m=\u001b[0m \u001b[0mGeodesic\u001b[0m\u001b[1;33m(\u001b[0m\u001b[0mself\u001b[0m\u001b[1;33m.\u001b[0m\u001b[0mELLIPSOID\u001b[0m\u001b[1;33m[\u001b[0m\u001b[1;36m0\u001b[0m\u001b[1;33m]\u001b[0m\u001b[1;33m,\u001b[0m \u001b[0mself\u001b[0m\u001b[1;33m.\u001b[0m\u001b[0mELLIPSOID\u001b[0m\u001b[1;33m[\u001b[0m\u001b[1;36m2\u001b[0m\u001b[1;33m]\u001b[0m\u001b[1;33m)\u001b[0m\u001b[1;33m\u001b[0m\u001b[1;33m\u001b[0m\u001b[0m\n\u001b[0;32m    547\u001b[0m \u001b[1;33m\u001b[0m\u001b[0m\n\u001b[1;32m--> 548\u001b[1;33m         s12 = self.geod.Inverse(lat1, lon1, lat2, lon2,\n\u001b[0m\u001b[0;32m    549\u001b[0m                                 Geodesic.DISTANCE)['s12']\n\u001b[0;32m    550\u001b[0m \u001b[1;33m\u001b[0m\u001b[0m\n",
      "\u001b[1;32m~\\anaconda3\\lib\\site-packages\\geographiclib\\geodesic.py\u001b[0m in \u001b[0;36mInverse\u001b[1;34m(self, lat1, lon1, lat2, lon2, outmask)\u001b[0m\n\u001b[0;32m   1034\u001b[0m     \"\"\"\n\u001b[0;32m   1035\u001b[0m \u001b[1;33m\u001b[0m\u001b[0m\n\u001b[1;32m-> 1036\u001b[1;33m     a12, s12, salp1,calp1, salp2,calp2, m12, M12, M21, S12 = self._GenInverse(\n\u001b[0m\u001b[0;32m   1037\u001b[0m       lat1, lon1, lat2, lon2, outmask)\n\u001b[0;32m   1038\u001b[0m     \u001b[0moutmask\u001b[0m \u001b[1;33m&=\u001b[0m \u001b[0mGeodesic\u001b[0m\u001b[1;33m.\u001b[0m\u001b[0mOUT_MASK\u001b[0m\u001b[1;33m\u001b[0m\u001b[1;33m\u001b[0m\u001b[0m\n",
      "\u001b[1;32m~\\anaconda3\\lib\\site-packages\\geographiclib\\geodesic.py\u001b[0m in \u001b[0;36m_GenInverse\u001b[1;34m(self, lat1, lon1, lat2, lon2, outmask)\u001b[0m\n\u001b[0;32m    880\u001b[0m           \u001b[1;31m# WGS84 and random input: mean = 2.85, sd = 0.60\u001b[0m\u001b[1;33m\u001b[0m\u001b[1;33m\u001b[0m\u001b[0m\n\u001b[0;32m    881\u001b[0m           (v, salp2, calp2, sig12, ssig1, csig1, ssig2, csig2,\n\u001b[1;32m--> 882\u001b[1;33m            \u001b[0meps\u001b[0m\u001b[1;33m,\u001b[0m \u001b[0mdomg12\u001b[0m\u001b[1;33m,\u001b[0m \u001b[0mdv\u001b[0m\u001b[1;33m)\u001b[0m \u001b[1;33m=\u001b[0m \u001b[0mself\u001b[0m\u001b[1;33m.\u001b[0m\u001b[0m_Lambda12\u001b[0m\u001b[1;33m(\u001b[0m\u001b[1;33m\u001b[0m\u001b[1;33m\u001b[0m\u001b[0m\n\u001b[0m\u001b[0;32m    883\u001b[0m              \u001b[0msbet1\u001b[0m\u001b[1;33m,\u001b[0m \u001b[0mcbet1\u001b[0m\u001b[1;33m,\u001b[0m \u001b[0mdn1\u001b[0m\u001b[1;33m,\u001b[0m \u001b[0msbet2\u001b[0m\u001b[1;33m,\u001b[0m \u001b[0mcbet2\u001b[0m\u001b[1;33m,\u001b[0m \u001b[0mdn2\u001b[0m\u001b[1;33m,\u001b[0m\u001b[1;33m\u001b[0m\u001b[1;33m\u001b[0m\u001b[0m\n\u001b[0;32m    884\u001b[0m              \u001b[0msalp1\u001b[0m\u001b[1;33m,\u001b[0m \u001b[0mcalp1\u001b[0m\u001b[1;33m,\u001b[0m \u001b[0mslam12\u001b[0m\u001b[1;33m,\u001b[0m \u001b[0mclam12\u001b[0m\u001b[1;33m,\u001b[0m \u001b[0mnumit\u001b[0m \u001b[1;33m<\u001b[0m \u001b[0mGeodesic\u001b[0m\u001b[1;33m.\u001b[0m\u001b[0mmaxit1_\u001b[0m\u001b[1;33m,\u001b[0m\u001b[1;33m\u001b[0m\u001b[1;33m\u001b[0m\u001b[0m\n",
      "\u001b[1;32m~\\anaconda3\\lib\\site-packages\\geographiclib\\geodesic.py\u001b[0m in \u001b[0;36m_Lambda12\u001b[1;34m(self, sbet1, cbet1, dn1, sbet2, cbet2, dn2, salp1, calp1, slam120, clam120, diffp, C1a, C2a, C3a)\u001b[0m\n\u001b[0;32m    691\u001b[0m         \u001b[0mdlam12\u001b[0m \u001b[1;33m=\u001b[0m \u001b[1;33m-\u001b[0m \u001b[1;36m2\u001b[0m \u001b[1;33m*\u001b[0m \u001b[0mself\u001b[0m\u001b[1;33m.\u001b[0m\u001b[0m_f1\u001b[0m \u001b[1;33m*\u001b[0m \u001b[0mdn1\u001b[0m \u001b[1;33m/\u001b[0m \u001b[0msbet1\u001b[0m\u001b[1;33m\u001b[0m\u001b[1;33m\u001b[0m\u001b[0m\n\u001b[0;32m    692\u001b[0m       \u001b[1;32melse\u001b[0m\u001b[1;33m:\u001b[0m\u001b[1;33m\u001b[0m\u001b[1;33m\u001b[0m\u001b[0m\n\u001b[1;32m--> 693\u001b[1;33m         dummy, dlam12, dummy, dummy, dummy = self._Lengths(\n\u001b[0m\u001b[0;32m    694\u001b[0m           \u001b[0meps\u001b[0m\u001b[1;33m,\u001b[0m \u001b[0msig12\u001b[0m\u001b[1;33m,\u001b[0m \u001b[0mssig1\u001b[0m\u001b[1;33m,\u001b[0m \u001b[0mcsig1\u001b[0m\u001b[1;33m,\u001b[0m \u001b[0mdn1\u001b[0m\u001b[1;33m,\u001b[0m \u001b[0mssig2\u001b[0m\u001b[1;33m,\u001b[0m \u001b[0mcsig2\u001b[0m\u001b[1;33m,\u001b[0m \u001b[0mdn2\u001b[0m\u001b[1;33m,\u001b[0m \u001b[0mcbet1\u001b[0m\u001b[1;33m,\u001b[0m \u001b[0mcbet2\u001b[0m\u001b[1;33m,\u001b[0m\u001b[1;33m\u001b[0m\u001b[1;33m\u001b[0m\u001b[0m\n\u001b[0;32m    695\u001b[0m           Geodesic.REDUCEDLENGTH, C1a, C2a)\n",
      "\u001b[1;32m~\\anaconda3\\lib\\site-packages\\geographiclib\\geodesic.py\u001b[0m in \u001b[0;36m_Lengths\u001b[1;34m(self, eps, sig12, ssig1, csig1, dn1, ssig2, csig2, dn2, cbet1, cbet2, outmask, C1a, C2a)\u001b[0m\n\u001b[0;32m    444\u001b[0m                   Geodesic.GEODESICSCALE):\n\u001b[0;32m    445\u001b[0m       \u001b[0mA1\u001b[0m \u001b[1;33m=\u001b[0m \u001b[0mGeodesic\u001b[0m\u001b[1;33m.\u001b[0m\u001b[0m_A1m1f\u001b[0m\u001b[1;33m(\u001b[0m\u001b[0meps\u001b[0m\u001b[1;33m)\u001b[0m\u001b[1;33m\u001b[0m\u001b[1;33m\u001b[0m\u001b[0m\n\u001b[1;32m--> 446\u001b[1;33m       \u001b[0mGeodesic\u001b[0m\u001b[1;33m.\u001b[0m\u001b[0m_C1f\u001b[0m\u001b[1;33m(\u001b[0m\u001b[0meps\u001b[0m\u001b[1;33m,\u001b[0m \u001b[0mC1a\u001b[0m\u001b[1;33m)\u001b[0m\u001b[1;33m\u001b[0m\u001b[1;33m\u001b[0m\u001b[0m\n\u001b[0m\u001b[0;32m    447\u001b[0m       \u001b[1;32mif\u001b[0m \u001b[0moutmask\u001b[0m \u001b[1;33m&\u001b[0m \u001b[1;33m(\u001b[0m\u001b[0mGeodesic\u001b[0m\u001b[1;33m.\u001b[0m\u001b[0mREDUCEDLENGTH\u001b[0m \u001b[1;33m|\u001b[0m \u001b[0mGeodesic\u001b[0m\u001b[1;33m.\u001b[0m\u001b[0mGEODESICSCALE\u001b[0m\u001b[1;33m)\u001b[0m\u001b[1;33m:\u001b[0m\u001b[1;33m\u001b[0m\u001b[1;33m\u001b[0m\u001b[0m\n\u001b[0;32m    448\u001b[0m         \u001b[0mA2\u001b[0m \u001b[1;33m=\u001b[0m \u001b[0mGeodesic\u001b[0m\u001b[1;33m.\u001b[0m\u001b[0m_A2m1f\u001b[0m\u001b[1;33m(\u001b[0m\u001b[0meps\u001b[0m\u001b[1;33m)\u001b[0m\u001b[1;33m\u001b[0m\u001b[1;33m\u001b[0m\u001b[0m\n",
      "\u001b[1;32m~\\anaconda3\\lib\\site-packages\\geographiclib\\geodesic.py\u001b[0m in \u001b[0;36m_C1f\u001b[1;34m(eps, c)\u001b[0m\n\u001b[0;32m    217\u001b[0m     \u001b[1;32mfor\u001b[0m \u001b[0ml\u001b[0m \u001b[1;32min\u001b[0m \u001b[0mrange\u001b[0m\u001b[1;33m(\u001b[0m\u001b[1;36m1\u001b[0m\u001b[1;33m,\u001b[0m \u001b[0mGeodesic\u001b[0m\u001b[1;33m.\u001b[0m\u001b[0mnC1_\u001b[0m \u001b[1;33m+\u001b[0m \u001b[1;36m1\u001b[0m\u001b[1;33m)\u001b[0m\u001b[1;33m:\u001b[0m \u001b[1;31m# l is index of C1p[l]\u001b[0m\u001b[1;33m\u001b[0m\u001b[1;33m\u001b[0m\u001b[0m\n\u001b[0;32m    218\u001b[0m       \u001b[0mm\u001b[0m \u001b[1;33m=\u001b[0m \u001b[1;33m(\u001b[0m\u001b[0mGeodesic\u001b[0m\u001b[1;33m.\u001b[0m\u001b[0mnC1_\u001b[0m \u001b[1;33m-\u001b[0m \u001b[0ml\u001b[0m\u001b[1;33m)\u001b[0m \u001b[1;33m//\u001b[0m \u001b[1;36m2\u001b[0m        \u001b[1;31m# order of polynomial in eps^2\u001b[0m\u001b[1;33m\u001b[0m\u001b[1;33m\u001b[0m\u001b[0m\n\u001b[1;32m--> 219\u001b[1;33m       \u001b[0mc\u001b[0m\u001b[1;33m[\u001b[0m\u001b[0ml\u001b[0m\u001b[1;33m]\u001b[0m \u001b[1;33m=\u001b[0m \u001b[0md\u001b[0m \u001b[1;33m*\u001b[0m \u001b[0mMath\u001b[0m\u001b[1;33m.\u001b[0m\u001b[0mpolyval\u001b[0m\u001b[1;33m(\u001b[0m\u001b[0mm\u001b[0m\u001b[1;33m,\u001b[0m \u001b[0mcoeff\u001b[0m\u001b[1;33m,\u001b[0m \u001b[0mo\u001b[0m\u001b[1;33m,\u001b[0m \u001b[0meps2\u001b[0m\u001b[1;33m)\u001b[0m \u001b[1;33m/\u001b[0m \u001b[0mcoeff\u001b[0m\u001b[1;33m[\u001b[0m\u001b[0mo\u001b[0m \u001b[1;33m+\u001b[0m \u001b[0mm\u001b[0m \u001b[1;33m+\u001b[0m \u001b[1;36m1\u001b[0m\u001b[1;33m]\u001b[0m\u001b[1;33m\u001b[0m\u001b[1;33m\u001b[0m\u001b[0m\n\u001b[0m\u001b[0;32m    220\u001b[0m       \u001b[0mo\u001b[0m \u001b[1;33m+=\u001b[0m \u001b[0mm\u001b[0m \u001b[1;33m+\u001b[0m \u001b[1;36m2\u001b[0m\u001b[1;33m\u001b[0m\u001b[1;33m\u001b[0m\u001b[0m\n\u001b[0;32m    221\u001b[0m       \u001b[0md\u001b[0m \u001b[1;33m*=\u001b[0m \u001b[0meps\u001b[0m\u001b[1;33m\u001b[0m\u001b[1;33m\u001b[0m\u001b[0m\n",
      "\u001b[1;32m~\\anaconda3\\lib\\site-packages\\geographiclib\\geomath.py\u001b[0m in \u001b[0;36mpolyval\u001b[1;34m(N, p, s, x)\u001b[0m\n\u001b[0;32m    114\u001b[0m     \u001b[0my\u001b[0m \u001b[1;33m=\u001b[0m \u001b[0mfloat\u001b[0m\u001b[1;33m(\u001b[0m\u001b[1;36m0\u001b[0m \u001b[1;32mif\u001b[0m \u001b[0mN\u001b[0m \u001b[1;33m<\u001b[0m \u001b[1;36m0\u001b[0m \u001b[1;32melse\u001b[0m \u001b[0mp\u001b[0m\u001b[1;33m[\u001b[0m\u001b[0ms\u001b[0m\u001b[1;33m]\u001b[0m\u001b[1;33m)\u001b[0m \u001b[1;31m# make sure the returned value is a float\u001b[0m\u001b[1;33m\u001b[0m\u001b[1;33m\u001b[0m\u001b[0m\n\u001b[0;32m    115\u001b[0m     \u001b[1;32mwhile\u001b[0m \u001b[0mN\u001b[0m \u001b[1;33m>\u001b[0m \u001b[1;36m0\u001b[0m\u001b[1;33m:\u001b[0m\u001b[1;33m\u001b[0m\u001b[1;33m\u001b[0m\u001b[0m\n\u001b[1;32m--> 116\u001b[1;33m       \u001b[0mN\u001b[0m \u001b[1;33m-=\u001b[0m \u001b[1;36m1\u001b[0m\u001b[1;33m;\u001b[0m \u001b[0ms\u001b[0m \u001b[1;33m+=\u001b[0m \u001b[1;36m1\u001b[0m\u001b[1;33m\u001b[0m\u001b[1;33m\u001b[0m\u001b[0m\n\u001b[0m\u001b[0;32m    117\u001b[0m       \u001b[0my\u001b[0m \u001b[1;33m=\u001b[0m \u001b[0my\u001b[0m \u001b[1;33m*\u001b[0m \u001b[0mx\u001b[0m \u001b[1;33m+\u001b[0m \u001b[0mp\u001b[0m\u001b[1;33m[\u001b[0m\u001b[0ms\u001b[0m\u001b[1;33m]\u001b[0m\u001b[1;33m\u001b[0m\u001b[1;33m\u001b[0m\u001b[0m\n\u001b[0;32m    118\u001b[0m     \u001b[1;32mreturn\u001b[0m \u001b[0my\u001b[0m\u001b[1;33m\u001b[0m\u001b[1;33m\u001b[0m\u001b[0m\n",
      "\u001b[1;31mKeyboardInterrupt\u001b[0m: "
     ]
    }
   ],
   "source": [
    "# creazione di un grafo diretto vuoto \n",
    "G= nx.DiGraph()\n",
    "\n",
    "# aggiunta delle città come nodi del grafo\n",
    "for city in cll: \n",
    "    G.add_node(city)\n",
    "    \n",
    "# costruzione degli archi del grafo\n",
    "for city in cll:\n",
    "    \n",
    "    l =nearest_city(city)\n",
    "    \n",
    "    if l==[]:\n",
    "        continue\n",
    "    else:\n",
    "        G.add_edge(city,l[0][2])\n",
    "        G.add_edge(city,l[1][2])\n",
    "        G.add_edge(city,l[2][2])"
   ]
  },
  {
   "cell_type": "code",
   "execution_count": 12,
   "metadata": {},
   "outputs": [
    {
     "data": {
      "text/plain": [
       "OutEdgeView([('A Coruña 42.59 -8.73', 'Agadir 29.74 -9.23'), ('A Coruña 42.59 -8.73', 'Las Palmas 28.13 -15.45'), ('A Coruña 42.59 -8.73', 'Santa Cruz De Tenerife 28.13 -15.45'), ('Aachen 50.63 6.34', 'Charleroi 50.63 3.8'), ('Aachen 50.63 6.34', 'Lille 50.63 3.8'), ('Aachen 50.63 6.34', 'Brussels 50.63 3.8'), ('Aalborg 57.05 10.33', 'Stavanger 58.66 6.15'), ('Aalborg 57.05 10.33', 'Oslo 60.27 9.73'), ('Aalborg 57.05 10.33', 'Bremen 53.84 9.55'), ('Aba 5.63 8.07', 'Onitsha 5.63 6.46'), ('Aba 5.63 8.07', 'Sapele 5.63 6.46'), ('Aba 5.63 8.07', 'Awka 5.63 6.46'), ('Abadan 29.74 48.0', 'Kuhdasht 32.95 46.91'), ('Abadan 29.74 48.0', 'Ilam 32.95 46.91'), ('Abadan 29.74 48.0', 'Baghdad 32.95 45.0'), ('Abakaliki 5.63 8.07', 'Onitsha 5.63 6.46'), ('Abakaliki 5.63 8.07', 'Sapele 5.63 6.46'), ('Abakaliki 5.63 8.07', 'Awka 5.63 6.46'), ('Abakan 53.84 91.36', 'Mezhdurechensk 53.84 88.64'), ('Abakan 53.84 91.36', 'Novokuznetsk 53.84 85.91'), ('Abakan 53.84 91.36', 'Leninsk Kuznetskiy 53.84 85.91'), ('Abbotsford 49.03 -122.45', 'Portland 45.81 -123.46'), ('Abbotsford 49.03 -122.45', 'Vancouver 45.81 -123.46'), ('Abbotsford 49.03 -122.45', 'Eugene 44.2 -122.98'), ('Abengourou 7.23 -4.05', 'Yamoussoukro 7.23 -5.68'), ('Abengourou 7.23 -4.05', 'Bouaké 7.23 -5.68'), ('Abengourou 7.23 -4.05', 'Daloa 7.23 -5.68'), ('Abeokuta 7.23 4.05', 'Abomey Calavi 7.23 2.43'), ('Abeokuta 7.23 4.05', 'Cotonou 7.23 2.43'), ('Abeokuta 7.23 4.05', 'Bohicon 7.23 2.43'), ('Aberdeen 57.05 -1.48', 'Dundee 57.05 -4.43'), ('Aberdeen 57.05 -1.48', 'Newcastle Upon Tyne 55.45 -2.83'), ('Aberdeen 57.05 -1.48', 'Glasgow 55.45 -2.83'), ('Abha 18.48 42.25', 'Mecca 21.7 40.67'), ('Abha 18.48 42.25', 'Asmara 15.27 39.17'), ('Abha 18.48 42.25', 'Jiddah 21.7 38.94'), ('Abidjan 5.63 -3.23', 'Anyama 5.63 -4.84'), ('Abidjan 5.63 -3.23', 'Agboville 5.63 -4.84'), ('Abidjan 5.63 -3.23', 'Divo 5.63 -4.84')])"
      ]
     },
     "execution_count": 12,
     "metadata": {},
     "output_type": "execute_result"
    }
   ],
   "source": [
    "G.edges()"
   ]
  },
  {
   "cell_type": "code",
   "execution_count": null,
   "metadata": {
    "id": "s-Z9SIHLDgAV"
   },
   "outputs": [],
   "source": [
    "# salvataggio del grafo\n",
    "nx.readwrite.gpickle.write_gpickle(G, r'C:/Users/lucam/Documents/master/grafo1')"
   ]
  },
  {
   "cell_type": "code",
   "execution_count": null,
   "metadata": {
    "id": "qvOxNPKLDgAW"
   },
   "outputs": [],
   "source": [
    "#visualizzazione del grafo diretto\n",
    "net= Network(notebook=True)\n",
    "net.from_nx(G)\n",
    "net.show('g1.html')"
   ]
  }
 ],
 "metadata": {
  "colab": {
   "name": "building_graph.ipynb",
   "provenance": []
  },
  "kernelspec": {
   "display_name": "Python 3 (ipykernel)",
   "language": "python",
   "name": "python3"
  },
  "language_info": {
   "codemirror_mode": {
    "name": "ipython",
    "version": 3
   },
   "file_extension": ".py",
   "mimetype": "text/x-python",
   "name": "python",
   "nbconvert_exporter": "python",
   "pygments_lexer": "ipython3",
   "version": "3.9.7"
  },
  "toc": {
   "base_numbering": 1,
   "nav_menu": {},
   "number_sections": true,
   "sideBar": true,
   "skip_h1_title": false,
   "title_cell": "Table of Contents",
   "title_sidebar": "Contents",
   "toc_cell": false,
   "toc_position": {},
   "toc_section_display": true,
   "toc_window_display": false
  }
 },
 "nbformat": 4,
 "nbformat_minor": 1
}
